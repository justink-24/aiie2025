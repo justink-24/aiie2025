{
  "nbformat": 4,
  "nbformat_minor": 0,
  "metadata": {
    "kernelspec": {
      "display_name": "Python 3",
      "language": "python",
      "name": "python3"
    },
    "language_info": {
      "codemirror_mode": {
        "name": "ipython",
        "version": 3
      },
      "file_extension": ".py",
      "mimetype": "text/x-python",
      "name": "python",
      "nbconvert_exporter": "python",
      "pygments_lexer": "ipython3",
      "version": "3.6.6"
    },
    "colab": {
      "provenance": []
    }
  },
  "cells": [
    {
      "cell_type": "markdown",
      "metadata": {
        "id": "EeUIUWVK75zR"
      },
      "source": [
        "##Knowlegde Check - 2\n"
      ]
    },
    {
      "cell_type": "markdown",
      "metadata": {
        "id": "5-1haVuV75zS"
      },
      "source": [
        "## Question# 1\n",
        "\n",
        "Points : 5 *italicized text*\n",
        "\n",
        "Write a function that returns the smallest of two even numbers, if both numbers are even and, the greater if one or both numbers are odd\n",
        "   \n",
        "                   lesser_of_two_evens(2,4) --> 2\n",
        "                   lesser_of_two_evens(2,5) --> 5"
      ]
    },
    {
      "cell_type": "code",
      "metadata": {
        "collapsed": true,
        "id": "0dDpOctA75zT"
      },
      "source": [
        "def smallest_of_two_evens(a,b):\n",
        "    if(a%2==0 and b%2==0):\n",
        "        return min(a,b)\n",
        "    else:\n",
        "        return max(a,b)"
      ],
      "execution_count": 2,
      "outputs": []
    },
    {
      "cell_type": "code",
      "metadata": {
        "collapsed": true,
        "id": "TOqxVEyo75zT",
        "colab": {
          "base_uri": "https://localhost:8080/"
        },
        "outputId": "719e5366-a20f-458c-8e2c-f4716e03e5bf"
      },
      "source": [
        "# Check1\n",
        "smallest_of_two_evens(2,4)"
      ],
      "execution_count": 3,
      "outputs": [
        {
          "output_type": "execute_result",
          "data": {
            "text/plain": [
              "2"
            ]
          },
          "metadata": {},
          "execution_count": 3
        }
      ]
    },
    {
      "cell_type": "code",
      "metadata": {
        "collapsed": true,
        "id": "AdTCl-Go75zU",
        "colab": {
          "base_uri": "https://localhost:8080/"
        },
        "outputId": "4fdae79d-9728-4cb8-a4b9-23154f18ab0d"
      },
      "source": [
        "# Check2\n",
        "smallest_of_two_evens(2,5)"
      ],
      "execution_count": 4,
      "outputs": [
        {
          "output_type": "execute_result",
          "data": {
            "text/plain": [
              "5"
            ]
          },
          "metadata": {},
          "execution_count": 4
        }
      ]
    },
    {
      "cell_type": "markdown",
      "metadata": {
        "id": "HRbQR0ka75zU"
      },
      "source": [
        "## Question# 2\n",
        "\n",
        "Points : 5\n",
        "\n",
        "Write a function takes a two-word string and returns True if both words begin with same letter.\n",
        "\n",
        "            word_crackers('Lion', 'Lady') --> True\n",
        "            word_crackers('Crazy', 'Drink') --> False"
      ]
    },
    {
      "cell_type": "code",
      "metadata": {
        "collapsed": true,
        "id": "QBFQi-X175zV"
      },
      "source": [
        "def word_crackers(word1,word2):\n",
        "    if(word1[0]==word2[0]):\n",
        "        return True\n",
        "    else:\n",
        "        return False"
      ],
      "execution_count": 5,
      "outputs": []
    },
    {
      "cell_type": "code",
      "metadata": {
        "collapsed": true,
        "id": "OrUKLE2o75zV",
        "colab": {
          "base_uri": "https://localhost:8080/"
        },
        "outputId": "5783cba9-9dbb-4e9a-85ff-8a3f38feabd8"
      },
      "source": [
        "# Check1\n",
        "word_crackers('Lion', 'Lady')"
      ],
      "execution_count": 7,
      "outputs": [
        {
          "output_type": "execute_result",
          "data": {
            "text/plain": [
              "True"
            ]
          },
          "metadata": {},
          "execution_count": 7
        }
      ]
    },
    {
      "cell_type": "code",
      "metadata": {
        "collapsed": true,
        "id": "OKmWGoaN75zW",
        "colab": {
          "base_uri": "https://localhost:8080/"
        },
        "outputId": "5f23bdc1-8a6d-44d6-94bd-4dacd27e6e1c"
      },
      "source": [
        "# Check2\n",
        "word_crackers('Crazy', 'Drink')"
      ],
      "execution_count": 8,
      "outputs": [
        {
          "output_type": "execute_result",
          "data": {
            "text/plain": [
              "False"
            ]
          },
          "metadata": {},
          "execution_count": 8
        }
      ]
    },
    {
      "cell_type": "markdown",
      "metadata": {
        "id": "dTXH0FDi75zW"
      },
      "source": [
        "## Question# 3\n",
        "\n",
        "Points : 5\n",
        "\n",
        "Given two integers, return True if the sum of the integers is 20 *or* if one of the integers is 20. If not, return False\n",
        "\n",
        "    sum_twenty(20,10) --> True\n",
        "    sum_twenty(12,8) --> True\n",
        "    sum_twenty(2,3) --> False"
      ]
    },
    {
      "cell_type": "code",
      "metadata": {
        "collapsed": true,
        "id": "dpE6nfTH75zW"
      },
      "source": [
        "def sum_twenty(n1,n2):\n",
        "    if(n1==20 or n2==20 or n1+n2==20):\n",
        "        return True\n",
        "    else:\n",
        "        return False"
      ],
      "execution_count": 9,
      "outputs": []
    },
    {
      "cell_type": "code",
      "metadata": {
        "collapsed": true,
        "id": "EbGjQmGS75zW",
        "colab": {
          "base_uri": "https://localhost:8080/"
        },
        "outputId": "6881a320-99c3-4257-b046-107132f94672"
      },
      "source": [
        "# Check1\n",
        "sum_twenty(20,10)"
      ],
      "execution_count": 10,
      "outputs": [
        {
          "output_type": "execute_result",
          "data": {
            "text/plain": [
              "True"
            ]
          },
          "metadata": {},
          "execution_count": 10
        }
      ]
    },
    {
      "cell_type": "code",
      "metadata": {
        "collapsed": true,
        "id": "dIsHz1Gz75zX",
        "colab": {
          "base_uri": "https://localhost:8080/"
        },
        "outputId": "ff620cd3-f73b-4906-cf7c-fd294b856a7f"
      },
      "source": [
        "# Check2\n",
        "sum_twenty(2,3)"
      ],
      "execution_count": 11,
      "outputs": [
        {
          "output_type": "execute_result",
          "data": {
            "text/plain": [
              "False"
            ]
          },
          "metadata": {},
          "execution_count": 11
        }
      ]
    },
    {
      "cell_type": "markdown",
      "metadata": {
        "id": "y-LhSm8J75zX"
      },
      "source": [
        "## Question# 4\n",
        "\n",
        "Points : 5\n",
        "\n",
        "Write a function that capitalizes the first and fourth letters of a name\n",
        "     \n",
        "    cap_first_four('macdonald') --> MacDonald\n"
      ]
    },
    {
      "cell_type": "code",
      "metadata": {
        "collapsed": true,
        "id": "4A1VE97r75zX"
      },
      "source": [
        "def cap_first_four(name):\n",
        "  print(name[0].upper()+name[1:3]+name[3].upper()+name[4:])"
      ],
      "execution_count": 12,
      "outputs": []
    },
    {
      "cell_type": "code",
      "metadata": {
        "collapsed": true,
        "id": "xhjCfgwF75zX",
        "colab": {
          "base_uri": "https://localhost:8080/"
        },
        "outputId": "1432956e-cb7e-4574-cc19-ff3ef8b04f6f"
      },
      "source": [
        "# Check\n",
        "cap_first_four('macdonald')"
      ],
      "execution_count": 13,
      "outputs": [
        {
          "output_type": "stream",
          "name": "stdout",
          "text": [
            "MacDonald\n"
          ]
        }
      ]
    },
    {
      "cell_type": "markdown",
      "metadata": {
        "id": "DFOpc81H75zY"
      },
      "source": [
        "## Question# 5\n",
        "\n",
        "Points : 5\n",
        "\n",
        "Given a sentence, return a sentence with the words reversed\n",
        "\n",
        "    rev_words('I am home') --> 'home am I'\n",
        "    rev_words('We are ready') --> 'ready are We'\n",
        "    \n",
        "Note: The .join() method may be useful here. The .join() method allows you to join.\n",
        "\n",
        "    \" \".join(['Hello','world'])\n",
        "    \"Hello world\""
      ]
    },
    {
      "cell_type": "code",
      "metadata": {
        "collapsed": true,
        "id": "3FVzZTFA75zY"
      },
      "source": [
        "def rev_words(text):\n",
        "    print(\" \".join(text.split()[::-1]))"
      ],
      "execution_count": 14,
      "outputs": []
    },
    {
      "cell_type": "code",
      "metadata": {
        "collapsed": true,
        "id": "LAuWsFRa75zY",
        "colab": {
          "base_uri": "https://localhost:8080/"
        },
        "outputId": "37bb471a-6f26-47ad-9486-0c26e04e706a"
      },
      "source": [
        "# Check1\n",
        "rev_words('I am home')"
      ],
      "execution_count": 15,
      "outputs": [
        {
          "output_type": "stream",
          "name": "stdout",
          "text": [
            "home am I\n"
          ]
        }
      ]
    },
    {
      "cell_type": "code",
      "metadata": {
        "collapsed": true,
        "id": "idtYNRCX75zZ",
        "colab": {
          "base_uri": "https://localhost:8080/"
        },
        "outputId": "3adbbf9c-1d77-416a-89f9-8602b05ca818"
      },
      "source": [
        "# Check2\n",
        "rev_words('We are ready')"
      ],
      "execution_count": 16,
      "outputs": [
        {
          "output_type": "stream",
          "name": "stdout",
          "text": [
            "ready are We\n"
          ]
        }
      ]
    },
    {
      "cell_type": "markdown",
      "metadata": {
        "id": "KosRNbjZ75zZ"
      },
      "source": [
        "## Question# 6\n",
        "\n",
        "Points : 5\n",
        "\n",
        "Given an integer n, return True if n is nearest to either 100 or 200 with the difference of upto 10.\n",
        "\n",
        "    nearest_num(90) --> True\n",
        "    nearest_num(104) --> True\n",
        "    nearest_num(150) --> False\n",
        "    nearest_num(209) --> True\n",
        "    \n",
        "NOTE: `abs(num)` returns the absolute value of a number"
      ]
    },
    {
      "cell_type": "code",
      "metadata": {
        "collapsed": true,
        "id": "mYL-XUKn75zZ"
      },
      "source": [
        "def nearest_num(n):\n",
        "    if(abs(100-n)<=10 or abs(200-n)<=10):\n",
        "        return True\n",
        "    else:\n",
        "        return False"
      ],
      "execution_count": 17,
      "outputs": []
    },
    {
      "cell_type": "code",
      "metadata": {
        "collapsed": true,
        "id": "SBy-ceNf75zZ",
        "colab": {
          "base_uri": "https://localhost:8080/"
        },
        "outputId": "eb689fd7-1079-4545-c5a3-6a01db66223e"
      },
      "source": [
        "# Check1\n",
        "nearest_num(104)"
      ],
      "execution_count": 18,
      "outputs": [
        {
          "output_type": "execute_result",
          "data": {
            "text/plain": [
              "True"
            ]
          },
          "metadata": {},
          "execution_count": 18
        }
      ]
    },
    {
      "cell_type": "code",
      "metadata": {
        "collapsed": true,
        "id": "l3IiEN1w75zZ",
        "colab": {
          "base_uri": "https://localhost:8080/"
        },
        "outputId": "6fab38ce-54db-44e3-9be2-e214ac02722d"
      },
      "source": [
        "# Check2\n",
        "nearest_num(150)"
      ],
      "execution_count": 19,
      "outputs": [
        {
          "output_type": "execute_result",
          "data": {
            "text/plain": [
              "False"
            ]
          },
          "metadata": {},
          "execution_count": 19
        }
      ]
    },
    {
      "cell_type": "code",
      "metadata": {
        "collapsed": true,
        "id": "lBqJY_II75za",
        "colab": {
          "base_uri": "https://localhost:8080/"
        },
        "outputId": "f1bd83d8-efe8-4272-bf07-9d41ceaff030"
      },
      "source": [
        "# Check3\n",
        "nearest_num(209)"
      ],
      "execution_count": 20,
      "outputs": [
        {
          "output_type": "execute_result",
          "data": {
            "text/plain": [
              "True"
            ]
          },
          "metadata": {},
          "execution_count": 20
        }
      ]
    },
    {
      "cell_type": "markdown",
      "metadata": {
        "id": "Aris-wDf75za"
      },
      "source": [
        "## Question# 7\n",
        "\n",
        "Points : 5\n",
        "\n",
        "Given a list of ints, return True if the list contains a same numeric value next.\n",
        "\n",
        "    contains_two_samevalues([1, 3, 3]) → True\n",
        "    contains_two_samevalues([1, 3, 1, 3]) → False\n",
        "    contains_two_samevalues([3, 1, 3]) → False"
      ]
    },
    {
      "cell_type": "code",
      "metadata": {
        "collapsed": true,
        "id": "Dw3iE01275za"
      },
      "source": [
        "def contains_two_samevalues(nums):\n",
        "    if (len(nums)>1):\n",
        "        for i in range(len(nums)-1):\n",
        "            if(nums[i]==nums[i+1]):\n",
        "                return True\n",
        "        return False\n",
        "    else:\n",
        "        return False"
      ],
      "execution_count": 22,
      "outputs": []
    },
    {
      "cell_type": "code",
      "metadata": {
        "collapsed": true,
        "id": "VTEf2wIu75zb",
        "colab": {
          "base_uri": "https://localhost:8080/"
        },
        "outputId": "f207173e-b18c-4980-ec16-abf963d84991"
      },
      "source": [
        "# Check1\n",
        "contains_two_samevalues([1, 3, 3])"
      ],
      "execution_count": 23,
      "outputs": [
        {
          "output_type": "execute_result",
          "data": {
            "text/plain": [
              "True"
            ]
          },
          "metadata": {},
          "execution_count": 23
        }
      ]
    },
    {
      "cell_type": "code",
      "metadata": {
        "collapsed": true,
        "id": "D1KxBkty75zb",
        "colab": {
          "base_uri": "https://localhost:8080/"
        },
        "outputId": "eda8dd74-4cea-4560-8978-b369c26e6973"
      },
      "source": [
        "# Check2\n",
        "contains_two_samevalues([1, 3, 1, 3])"
      ],
      "execution_count": 24,
      "outputs": [
        {
          "output_type": "execute_result",
          "data": {
            "text/plain": [
              "False"
            ]
          },
          "metadata": {},
          "execution_count": 24
        }
      ]
    },
    {
      "cell_type": "code",
      "metadata": {
        "collapsed": true,
        "id": "P_VM5Evm75zb",
        "colab": {
          "base_uri": "https://localhost:8080/"
        },
        "outputId": "479ea913-cbc4-4c35-cbfc-1abff4a0ab4c"
      },
      "source": [
        "# Check3\n",
        "contains_two_samevalues([3, 1, 3])"
      ],
      "execution_count": 25,
      "outputs": [
        {
          "output_type": "execute_result",
          "data": {
            "text/plain": [
              "False"
            ]
          },
          "metadata": {},
          "execution_count": 25
        }
      ]
    },
    {
      "cell_type": "markdown",
      "metadata": {
        "id": "zUQ5fWNz75zb"
      },
      "source": [
        "## Question# 8\n",
        "\n",
        "Points : 5\n",
        "\n",
        "Given a string, return a string where for every character of the string appears 3 time.\n",
        "\n",
        "    repeat_three('Hello') --> 'HHHeeellllllooo'\n",
        "    repeat_three('Mississippi') --> 'MMMiiissssssiiissssssiiippppppiii'"
      ]
    },
    {
      "cell_type": "code",
      "metadata": {
        "collapsed": true,
        "id": "6vKzWOd475zb"
      },
      "source": [
        "def repeat_three(text):\n",
        "    if(len(text)>0):\n",
        "        print(\"\".join([i*3 for i in text]))"
      ],
      "execution_count": 27,
      "outputs": []
    },
    {
      "cell_type": "code",
      "metadata": {
        "collapsed": true,
        "id": "TtCaDFgF75zb",
        "colab": {
          "base_uri": "https://localhost:8080/"
        },
        "outputId": "b2e8fd9e-e2ae-44b1-b9a0-d8262c368e48"
      },
      "source": [
        "# Check1\n",
        "repeat_three('Hello')"
      ],
      "execution_count": 28,
      "outputs": [
        {
          "output_type": "stream",
          "name": "stdout",
          "text": [
            "HHHeeellllllooo\n"
          ]
        }
      ]
    },
    {
      "cell_type": "code",
      "metadata": {
        "collapsed": true,
        "id": "o8QYdzkO75zc",
        "colab": {
          "base_uri": "https://localhost:8080/"
        },
        "outputId": "720f3f11-f831-4706-bce7-f577221f610c"
      },
      "source": [
        "# Check2\n",
        "repeat_three('Mississippi')"
      ],
      "execution_count": 29,
      "outputs": [
        {
          "output_type": "stream",
          "name": "stdout",
          "text": [
            "MMMiiissssssiiissssssiiippppppiii\n"
          ]
        }
      ]
    },
    {
      "cell_type": "markdown",
      "metadata": {
        "id": "mKoiX1Je75zg"
      },
      "source": [
        "## Question# 9\n",
        "\n",
        "Points : 5\n",
        "\n",
        "Write a function that returns the *number* of prime numbers that exist up to and including a given number\n",
        "\n",
        "    count_primes(100) --> 25\n",
        "\n",
        "By convention, 0 and 1 are not prime."
      ]
    },
    {
      "cell_type": "code",
      "metadata": {
        "collapsed": true,
        "id": "yYjs542q75zg"
      },
      "source": [
        "def count_primes(n):\n",
        "    if n < 2:\n",
        "        return 0\n",
        "\n",
        "    # Create a boolean array \"is_prime[0..n]\" and initialize all entries as true.\n",
        "    is_prime = [True] * (n + 1)\n",
        "    is_prime[0] = is_prime[1] = False  # 0 and 1 are not prime\n",
        "\n",
        "    p = 2\n",
        "    while p * p <= n:\n",
        "        if is_prime[p]:\n",
        "            for i in range(p * p, n + 1, p):\n",
        "                is_prime[i] = False\n",
        "        p += 1\n",
        "\n",
        "    # Count the number of primes\n",
        "    return sum(is_prime)"
      ],
      "execution_count": 36,
      "outputs": []
    },
    {
      "cell_type": "code",
      "metadata": {
        "collapsed": true,
        "id": "62ZQGzsa75zg",
        "colab": {
          "base_uri": "https://localhost:8080/"
        },
        "outputId": "b7be8c38-0c65-4019-90b7-172958fd773e"
      },
      "source": [
        "# Check1\n",
        "count_primes(100)"
      ],
      "execution_count": 35,
      "outputs": [
        {
          "output_type": "execute_result",
          "data": {
            "text/plain": [
              "25"
            ]
          },
          "metadata": {},
          "execution_count": 35
        }
      ]
    }
  ]
}